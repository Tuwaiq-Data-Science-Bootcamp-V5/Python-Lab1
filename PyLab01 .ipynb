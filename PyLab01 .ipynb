{
  "nbformat": 4,
  "nbformat_minor": 0,
  "metadata": {
    "colab": {
      "provenance": []
    },
    "kernelspec": {
      "name": "python3",
      "display_name": "Python 3"
    },
    "language_info": {
      "name": "python"
    }
  },
  "cells": [
    {
      "cell_type": "code",
      "execution_count": 1,
      "metadata": {
        "id": "_A2j3fs_y4sz"
      },
      "outputs": [],
      "source": [
        "favSeason = 'Winter'"
      ]
    },
    {
      "cell_type": "code",
      "source": [
        "x = (5)\n",
        "y = (4.4)"
      ],
      "metadata": {
        "id": "Il3I51P4Jbvs"
      },
      "execution_count": 6,
      "outputs": []
    },
    {
      "cell_type": "code",
      "source": [
        "x = y = z = 5"
      ],
      "metadata": {
        "id": "qzMMaqdRJndu"
      },
      "execution_count": 4,
      "outputs": []
    },
    {
      "cell_type": "code",
      "source": [
        "a , b , c = 1 , 2, 3"
      ],
      "metadata": {
        "id": "4OPhtlgzJ7ln"
      },
      "execution_count": 5,
      "outputs": []
    }
  ]
}