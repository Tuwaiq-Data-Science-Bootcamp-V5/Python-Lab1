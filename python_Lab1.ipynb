{
  "nbformat": 4,
  "nbformat_minor": 0,
  "metadata": {
    "colab": {
      "provenance": []
    },
    "kernelspec": {
      "name": "python3",
      "display_name": "Python 3"
    },
    "language_info": {
      "name": "python"
    }
  },
  "cells": [
    {
      "cell_type": "markdown",
      "source": [
        "1-Define a variable that has a value of your favorite season."
      ],
      "metadata": {
        "id": "FX3SvRYvPxNj"
      }
    },
    {
      "cell_type": "code",
      "execution_count": 1,
      "metadata": {
        "id": "z6oeZXy_OkF5"
      },
      "outputs": [],
      "source": [
        "a= \"spring\""
      ]
    },
    {
      "cell_type": "markdown",
      "source": [
        "2-Define “x“ variable has an integer value and variable “y” has a float value."
      ],
      "metadata": {
        "id": "-zeXFlvAPt1w"
      }
    },
    {
      "cell_type": "code",
      "source": [
        "x = 10\n",
        "y = 31.5"
      ],
      "metadata": {
        "id": "OsuTk9YUPG4_"
      },
      "execution_count": 2,
      "outputs": []
    },
    {
      "cell_type": "markdown",
      "source": [
        "3-Assign One Value to Multiple Variables."
      ],
      "metadata": {
        "id": "IXeSZifnPpi2"
      }
    },
    {
      "cell_type": "code",
      "source": [
        "a = b = c = 5"
      ],
      "metadata": {
        "id": "zx9ZTqyXPULp"
      },
      "execution_count": 3,
      "outputs": []
    },
    {
      "cell_type": "markdown",
      "source": [
        "4-Assign Many Values to Multiple Variables."
      ],
      "metadata": {
        "id": "XtjpRnnlPmbJ"
      }
    },
    {
      "cell_type": "code",
      "source": [
        "\n",
        "var1, var2, var3 = 1, 2, 3"
      ],
      "metadata": {
        "id": "CtifgHO-Pb2t"
      },
      "execution_count": 4,
      "outputs": []
    }
  ]
}