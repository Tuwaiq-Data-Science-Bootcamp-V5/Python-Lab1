{
 "cells": [
  {
   "cell_type": "code",
   "execution_count": 1,
   "id": "04164720-c713-4fd7-886b-d413d18d48f0",
   "metadata": {},
   "outputs": [
    {
     "name": "stdout",
     "output_type": "stream",
     "text": [
      "1 10.1 0 5 6 7\n"
     ]
    }
   ],
   "source": [
    "my_fav_season = \"summer\"\n",
    "x = 1\n",
    "y = 10.1\n",
    "a = b = c = 0\n",
    "z , q , v = 5 , 6 , 7\n",
    "\n",
    "print(x,y,a,z,q,v)"
   ]
  },
  {
   "cell_type": "code",
   "execution_count": null,
   "id": "bb9d4a9c-6d62-481a-87c9-2a913d21b729",
   "metadata": {},
   "outputs": [],
   "source": []
  }
 ],
 "metadata": {
  "kernelspec": {
   "display_name": "Python 3 (ipykernel)",
   "language": "python",
   "name": "python3"
  },
  "language_info": {
   "codemirror_mode": {
    "name": "ipython",
    "version": 3
   },
   "file_extension": ".py",
   "mimetype": "text/x-python",
   "name": "python",
   "nbconvert_exporter": "python",
   "pygments_lexer": "ipython3",
   "version": "3.9.13"
  }
 },
 "nbformat": 4,
 "nbformat_minor": 5
}
