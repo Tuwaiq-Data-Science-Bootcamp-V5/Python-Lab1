{
 "cells": [
  {
   "cell_type": "code",
   "execution_count": null,
   "id": "88606eea-1860-43c5-b0f1-9fa318cd502a",
   "metadata": {},
   "outputs": [],
   "source": [
    "season = \"Winter\""
   ]
  },
  {
   "cell_type": "code",
   "execution_count": null,
   "id": "0d438904-fced-4c7e-80aa-d7dd26d624f4",
   "metadata": {},
   "outputs": [],
   "source": [
    "x=1"
   ]
  },
  {
   "cell_type": "code",
   "execution_count": null,
   "id": "5d35039b-e5f6-4e0a-835c-f921ae2b0917",
   "metadata": {},
   "outputs": [],
   "source": [
    "y=1.1"
   ]
  },
  {
   "cell_type": "code",
   "execution_count": null,
   "id": "80617fb2-482d-4d23-91bf-342a626f10d9",
   "metadata": {},
   "outputs": [],
   "source": [
    "z=c=v=2"
   ]
  },
  {
   "cell_type": "code",
   "execution_count": null,
   "id": "b0c39112-4e03-4c47-b585-c21ff3be3a59",
   "metadata": {},
   "outputs": [],
   "source": [
    "a,b,n=4,5,6"
   ]
  }
 ],
 "metadata": {
  "kernelspec": {
   "display_name": "Python 3 (ipykernel)",
   "language": "python",
   "name": "python3"
  },
  "language_info": {
   "codemirror_mode": {
    "name": "ipython",
    "version": 3
   },
   "file_extension": ".py",
   "mimetype": "text/x-python",
   "name": "python",
   "nbconvert_exporter": "python",
   "pygments_lexer": "ipython3",
   "version": "3.10.11"
  }
 },
 "nbformat": 4,
 "nbformat_minor": 5
}
